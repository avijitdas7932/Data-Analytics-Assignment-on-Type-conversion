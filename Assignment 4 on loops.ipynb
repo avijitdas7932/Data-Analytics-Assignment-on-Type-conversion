{
 "cells": [
  {
   "cell_type": "code",
   "execution_count": 7,
   "id": "231032c6-1d65-4a52-a289-67f84c68c371",
   "metadata": {},
   "outputs": [
    {
     "name": "stdout",
     "output_type": "stream",
     "text": [
      "1\n",
      "2\n",
      "3\n",
      "4\n",
      "5\n"
     ]
    }
   ],
   "source": [
    "#  Print numbers from 1 to 5 using a while loop.\n",
    "num = 5\n",
    "i = 1\n",
    "while i<=num:\n",
    "    print(i)\n",
    "    i=i+1"
   ]
  },
  {
   "cell_type": "code",
   "execution_count": 1,
   "id": "29e41bb3-0a4b-4005-a8dc-be9829a0a269",
   "metadata": {},
   "outputs": [
    {
     "name": "stdout",
     "output_type": "stream",
     "text": [
      "sum of all 1 to 10 number is  =  55\n"
     ]
    }
   ],
   "source": [
    "#  Calculate the sum of numbers from 1 to 10 usiing a while loop.\n",
    "num = 10\n",
    "i  = 1\n",
    "sum = 0\n",
    "while i<=num:\n",
    "    sum = sum+i\n",
    "    i+=1\n",
    "print(\"sum of all 1 to 10 number is  = \",sum)"
   ]
  },
  {
   "cell_type": "code",
   "execution_count": 3,
   "id": "41664bc7-8fd9-4528-a0b2-247474a233eb",
   "metadata": {},
   "outputs": [
    {
     "name": "stdin",
     "output_type": "stream",
     "text": [
      "Enter the number : 6\n"
     ]
    },
    {
     "name": "stdout",
     "output_type": "stream",
     "text": [
      "Factorial of the given number is = 720\n"
     ]
    }
   ],
   "source": [
    "# Calculate the factorial of a number using a for loop.\n",
    "num = int(input(\"Enter the number :\"))\n",
    "fact = 1\n",
    "for i in range(1,num+1):\n",
    "    fact = fact*i\n",
    "print(\"Factorial of the given number is =\",fact)\n"
   ]
  },
  {
   "cell_type": "code",
   "execution_count": 4,
   "id": "1b9b62dd-1672-4590-acec-8a9628d782d2",
   "metadata": {},
   "outputs": [
    {
     "name": "stdin",
     "output_type": "stream",
     "text": [
      "Enter the ant string: Data Science\n"
     ]
    },
    {
     "name": "stdout",
     "output_type": "stream",
     "text": [
      "the number of vowels =  5\n"
     ]
    }
   ],
   "source": [
    "#  Count the number of vowels in a string using a for loop\n",
    "user_string = input(\"Enter the ant string:\")\n",
    "vowel = \"aeiouAEIOU\"\n",
    "count = 0\n",
    "for char in user_string:\n",
    "    if char in vowel:\n",
    "        count+=1\n",
    "print(\"the number of vowels = \",count)\n"
   ]
  },
  {
   "cell_type": "code",
   "execution_count": null,
   "id": "e355cb97-0731-4a68-a5c2-6efd5cef4ed3",
   "metadata": {},
   "outputs": [
    {
     "name": "stdin",
     "output_type": "stream",
     "text": [
      "Enter the number of rows: 6\n"
     ]
    },
    {
     "name": "stdout",
     "output_type": "stream",
     "text": [
      "\n",
      "* \n",
      "* * \n",
      "* * * \n",
      "* * * * \n",
      "* * * * * \n"
     ]
    }
   ],
   "source": [
    "#  Print a pattern using nested loops.\n",
    "row = int(input(\"Enter the number of rows:\"))\n",
    "for i in range(1,row+1):\n",
    "    for j in range(1, i):\n",
    "        print(\"*\", end = \" \")\n",
    "    print( )"
   ]
  },
  {
   "cell_type": "code",
   "execution_count": 6,
   "id": "d2f8ef11-b11b-49ca-8fa0-5f67bfb613d2",
   "metadata": {},
   "outputs": [
    {
     "name": "stdin",
     "output_type": "stream",
     "text": [
      "Enter the number of row: 5\n",
      "Enter the number of colum: 10\n"
     ]
    },
    {
     "name": "stdout",
     "output_type": "stream",
     "text": [
      "1 * 1 = 1\t 1 * 2 = 2\t 1 * 3 = 3\t 1 * 4 = 4\t 1 * 5 = 5\t 1 * 6 = 6\t 1 * 7 = 7\t 1 * 8 = 8\t 1 * 9 = 9\t 1 * 10 = 10\t \n",
      "2 * 1 = 2\t 2 * 2 = 4\t 2 * 3 = 6\t 2 * 4 = 8\t 2 * 5 = 10\t 2 * 6 = 12\t 2 * 7 = 14\t 2 * 8 = 16\t 2 * 9 = 18\t 2 * 10 = 20\t \n",
      "3 * 1 = 3\t 3 * 2 = 6\t 3 * 3 = 9\t 3 * 4 = 12\t 3 * 5 = 15\t 3 * 6 = 18\t 3 * 7 = 21\t 3 * 8 = 24\t 3 * 9 = 27\t 3 * 10 = 30\t \n",
      "4 * 1 = 4\t 4 * 2 = 8\t 4 * 3 = 12\t 4 * 4 = 16\t 4 * 5 = 20\t 4 * 6 = 24\t 4 * 7 = 28\t 4 * 8 = 32\t 4 * 9 = 36\t 4 * 10 = 40\t \n",
      "5 * 1 = 5\t 5 * 2 = 10\t 5 * 3 = 15\t 5 * 4 = 20\t 5 * 5 = 25\t 5 * 6 = 30\t 5 * 7 = 35\t 5 * 8 = 40\t 5 * 9 = 45\t 5 * 10 = 50\t \n"
     ]
    }
   ],
   "source": [
    "#  Generate a multiplication table using nested loops.\n",
    "row  = int(input(\"Enter the number of row:\"))\n",
    "colum = int(input(\"Enter the number of colum:\"))\n",
    "for i in range(1, row+1):\n",
    "    for j in range(1, colum+1):\n",
    "        \n",
    "        result = i * j\n",
    "        \n",
    "        print(f\"{i} * {j} = {result}\\t\",end=\" \")\n",
    "    print( )"
   ]
  },
  {
   "cell_type": "code",
   "execution_count": null,
   "id": "a63a1e47-e066-4c82-a215-c2aaf76f8887",
   "metadata": {},
   "outputs": [],
   "source": []
  },
  {
   "cell_type": "code",
   "execution_count": null,
   "id": "c2a17926-8af1-466f-aedc-7fbb0806f81e",
   "metadata": {},
   "outputs": [],
   "source": []
  }
 ],
 "metadata": {
  "kernelspec": {
   "display_name": "Python 3 (ipykernel)",
   "language": "python",
   "name": "python3"
  },
  "language_info": {
   "codemirror_mode": {
    "name": "ipython",
    "version": 3
   },
   "file_extension": ".py",
   "mimetype": "text/x-python",
   "name": "python",
   "nbconvert_exporter": "python",
   "pygments_lexer": "ipython3",
   "version": "3.10.8"
  }
 },
 "nbformat": 4,
 "nbformat_minor": 5
}
