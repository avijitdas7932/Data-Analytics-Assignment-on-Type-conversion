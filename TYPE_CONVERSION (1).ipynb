{
 "cells": [
  {
   "cell_type": "code",
   "execution_count": 1,
   "id": "60557a1b-648b-43c8-8b7e-221f16c662d7",
   "metadata": {},
   "outputs": [
    {
     "name": "stdin",
     "output_type": "stream",
     "text": [
      "Enter the integer number which is to convert into float point number 5\n"
     ]
    },
    {
     "data": {
      "text/plain": [
       "5.0"
      ]
     },
     "execution_count": 1,
     "metadata": {},
     "output_type": "execute_result"
    }
   ],
   "source": [
    "# CONVERTION OF INTEGER INTO FLOAT NUMBER\n",
    "num = int(input(\"Enter the integer number which is to convert into float point number\"))\n",
    "float(num)"
   ]
  },
  {
   "cell_type": "code",
   "execution_count": 2,
   "id": "bedc5cd8-e6d1-4ab9-bac1-af1f1ad29462",
   "metadata": {},
   "outputs": [
    {
     "name": "stdin",
     "output_type": "stream",
     "text": [
      "Enter the float number which is to convert into integer number 2.5\n"
     ]
    },
    {
     "data": {
      "text/plain": [
       "2"
      ]
     },
     "execution_count": 2,
     "metadata": {},
     "output_type": "execute_result"
    }
   ],
   "source": [
    "# CONVERTION OF FLOAT INTO INTEGER NUMBER\n",
    "num1 = float(input(\"Enter the float number which is to convert into integer number\"))\n",
    "int(num1)"
   ]
  },
  {
   "cell_type": "code",
   "execution_count": 4,
   "id": "222a5d2e-2115-4e0a-bb58-05a0a855b4d2",
   "metadata": {},
   "outputs": [
    {
     "name": "stdout",
     "output_type": "stream",
     "text": [
      "(12, 123, 23, 5, 5, 6, 67, 7, 3)\n"
     ]
    }
   ],
   "source": [
    "# convert list to tuple\n",
    "my_list = [12,123,23,5,5,6,67,7,3]\n",
    "my_tuple  = tuple(my_list)\n",
    "print(my_tuple)"
   ]
  },
  {
   "cell_type": "code",
   "execution_count": 6,
   "id": "6c53018e-0a86-48c2-bf9f-4e69c344e309",
   "metadata": {},
   "outputs": [
    {
     "name": "stdout",
     "output_type": "stream",
     "text": [
      "[12, 123, 23, 5, 5, 6, 67, 7, 3]\n"
     ]
    }
   ],
   "source": [
    "# convert tuple to list\n",
    "my_tuple = (12,123,23,5,5,6,67,7,3)\n",
    "my_list  = list(my_list)\n",
    "print(my_list)"
   ]
  },
  {
   "cell_type": "code",
   "execution_count": 7,
   "id": "b11ca83f-7616-4649-a869-9b22d2600716",
   "metadata": {},
   "outputs": [
    {
     "name": "stdin",
     "output_type": "stream",
     "text": [
      "Enter any integer number 25\n"
     ]
    },
    {
     "data": {
      "text/plain": [
       "'0b11001'"
      ]
     },
     "execution_count": 7,
     "metadata": {},
     "output_type": "execute_result"
    }
   ],
   "source": [
    "# convert decimal number into binary number\n",
    "num = int(input(\"Enter any integer number\"))\n",
    "bin(num)"
   ]
  },
  {
   "cell_type": "code",
   "execution_count": 13,
   "id": "86a9b60a-6256-4e6e-93fc-d7bd3ee54b08",
   "metadata": {},
   "outputs": [
    {
     "name": "stdin",
     "output_type": "stream",
     "text": [
      "Enter any non_zero number: 11\n"
     ]
    },
    {
     "name": "stdout",
     "output_type": "stream",
     "text": [
      "True\n"
     ]
    }
   ],
   "source": [
    "# convert a non zero number to boolean\n",
    "num = int(input(\"Enter any non_zero number:\"))\n",
    "result = bool(num)\n",
    "print(result)"
   ]
  },
  {
   "cell_type": "code",
   "execution_count": 12,
   "id": "67afba2d-725b-4d9c-a698-752c3e17f4ac",
   "metadata": {},
   "outputs": [
    {
     "name": "stdin",
     "output_type": "stream",
     "text": [
      "Enter any integer which is to convert into string 2\n"
     ]
    },
    {
     "data": {
      "text/plain": [
       "'2'"
      ]
     },
     "execution_count": 12,
     "metadata": {},
     "output_type": "execute_result"
    }
   ],
   "source": [
    "# CONVERSION AN INTEGER TO A STRING\n",
    "a=int(input(\"Enter any integer which is to convert into string\"))\n",
    "str(a)"
   ]
  }
 ],
 "metadata": {
  "kernelspec": {
   "display_name": "Python 3 (ipykernel)",
   "language": "python",
   "name": "python3"
  },
  "language_info": {
   "codemirror_mode": {
    "name": "ipython",
    "version": 3
   },
   "file_extension": ".py",
   "mimetype": "text/x-python",
   "name": "python",
   "nbconvert_exporter": "python",
   "pygments_lexer": "ipython3",
   "version": "3.10.8"
  }
 },
 "nbformat": 4,
 "nbformat_minor": 5
}
