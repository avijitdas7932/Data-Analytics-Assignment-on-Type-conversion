{
 "cells": [
  {
   "cell_type": "code",
   "execution_count": 3,
   "id": "2e262df5-49e0-46e8-8d33-9abcd03e0dc6",
   "metadata": {},
   "outputs": [
    {
     "name": "stdin",
     "output_type": "stream",
     "text": [
      "Enter the large number:  10\n",
      "Enter the smaller number:  2\n"
     ]
    },
    {
     "name": "stdout",
     "output_type": "stream",
     "text": [
      "Sum of this two number:  12\n",
      "Difference of this two number:  8\n",
      "Product of this two number:  20\n",
      "Quotient of this two number:  5.0\n"
     ]
    }
   ],
   "source": [
    "# Calculating sum,difference,product,quotient\n",
    "a = int(input(\"Enter the large number: \"))\n",
    "b = int(input(\"Enter the smaller number: \"))\n",
    "add = a+b\n",
    "sub = a-b\n",
    "product = a*b\n",
    "quotient = a/b\n",
    "print(\"Sum of this two number: \", add)\n",
    "print(\"Difference of this two number: \", sub)\n",
    "print(\"Product of this two number: \", product)\n",
    "print(\"Quotient of this two number: \", quotient)"
   ]
  },
  {
   "cell_type": "code",
   "execution_count": 6,
   "id": "ca02976b-942e-492e-a1b2-26138c4f21ed",
   "metadata": {},
   "outputs": [
    {
     "name": "stdin",
     "output_type": "stream",
     "text": [
      "Enter the first number:  5\n",
      "Enter the second number:  2\n"
     ]
    },
    {
     "name": "stdout",
     "output_type": "stream",
     "text": [
      "num1 is greater than num2 : True\n",
      "num1 is less than num2 : False\n",
      "num1 is greater than and equal to num2 : True\n",
      "num1 is less than  and equal to num2 : False\n",
      "num1 is equal to num2 : False\n",
      "num1 is does not equal to num2 : True\n"
     ]
    }
   ],
   "source": [
    "#Comparing two numbers:\n",
    "num1 = int(input(\"Enter the first number: \"))\n",
    "num2 = int(input(\"Enter the second number: \"))\n",
    "result1 = num1>num2\n",
    "result2 = num1<num2\n",
    "result3 = num1>=num2\n",
    "result4 = num1<=num2\n",
    "result5 = num1==num2\n",
    "result6 = num1!=num2\n",
    "print(\"num1 is greater than num2 :\", result1)\n",
    "print(\"num1 is less than num2 :\", result2)\n",
    "print(\"num1 is greater than and equal to num2 :\", result3)\n",
    "print(\"num1 is less than  and equal to num2 :\", result4)\n",
    "print(\"num1 is equal to num2 :\", result5)\n",
    "print(\"num1 is does not equal to num2 :\", result6)"
   ]
  },
  {
   "cell_type": "code",
   "execution_count": 7,
   "id": "38c3b835-6cbb-45ee-bb56-d1722170f850",
   "metadata": {},
   "outputs": [
    {
     "name": "stdout",
     "output_type": "stream",
     "text": [
      "first assignment  operator =  10\n",
      "plush equal to  assignment  operator =  13\n",
      "subtract equal to  assignment  operator =  8\n",
      "multiple equal to  assignment  operator =  20\n",
      "divide equal to  assignment  operator =  5.0\n"
     ]
    }
   ],
   "source": [
    "#Perform various assignment operations on a variable\n",
    "num = 10\n",
    "PE = num+3\n",
    "result = num-2\n",
    "m = num*2\n",
    "d = num/2\n",
    "print(\"first assignment  operator = \",num)\n",
    "print(\"plush equal to  assignment  operator = \",PE)\n",
    "print(\"subtract equal to  assignment  operator = \",result)\n",
    "print(\"multiple equal to  assignment  operator = \",m)\n",
    "print(\"divide equal to  assignment  operator = \",d)"
   ]
  },
  {
   "cell_type": "code",
   "execution_count": 10,
   "id": "653db1c2-8c77-48f6-9408-25aad40d8f39",
   "metadata": {},
   "outputs": [
    {
     "name": "stdout",
     "output_type": "stream",
     "text": [
      "first AND logical operator =  False\n",
      "second OR logical operator =  True\n"
     ]
    }
   ],
   "source": [
    "# Check conditions using logical operators\n",
    "a = 5\n",
    "b = 6\n",
    "c = 3\n",
    "result1  = (a<b) and (b<c)\n",
    "result2  = (a<b) or (b>c)\n",
    "\n",
    "print(\"first AND logical operator = \",result1)\n",
    "print(\"second OR logical operator = \",result2)"
   ]
  },
  {
   "cell_type": "code",
   "execution_count": 11,
   "id": "ad80fa71-e925-42e3-b914-bad86d2cb3e0",
   "metadata": {},
   "outputs": [
    {
     "name": "stdout",
     "output_type": "stream",
     "text": [
      "False\n",
      "True\n"
     ]
    }
   ],
   "source": [
    "# Checking identity of variables \n",
    "a = [1,2,3]\n",
    "b = [1,2,3]\n",
    "c = a\n",
    "result1 = a is b # false because different object\n",
    "result2 = c is a # True because same object\n",
    "print(result1)\n",
    "print(result2)"
   ]
  },
  {
   "cell_type": "code",
   "execution_count": 12,
   "id": "c3f5cadc-1403-43b1-879b-70003656f226",
   "metadata": {},
   "outputs": [
    {
     "name": "stdin",
     "output_type": "stream",
     "text": [
      "Enter the first number: 12\n",
      "Enter the second number: 10\n"
     ]
    },
    {
     "name": "stdout",
     "output_type": "stream",
     "text": [
      "bitwise AND  =  8\n",
      "bitwise OR  =  6\n",
      "Left_sift  =  12288\n",
      "Right_sift =  0\n"
     ]
    }
   ],
   "source": [
    "#Perform bitwise operations on any two integers.\n",
    "num1 = int(input(\"Enter the first number:\"))\n",
    "num2 = int(input(\"Enter the second number:\"))\n",
    "result1 = num1 & num2\n",
    "result2 = num1 | num2\n",
    "result2 = num1 ^ num2\n",
    "result3 = num1 << num2\n",
    "result4 = num1 >> num2\n",
    "print(\"bitwise AND  = \", result1)\n",
    "\n",
    "print(\"bitwise OR  = \", result2)\n",
    "\n",
    "print(\"Left_sift  = \", result3)\n",
    "\n",
    "print(\"Right_sift = \", result4)"
   ]
  },
  {
   "cell_type": "code",
   "execution_count": 14,
   "id": "ece817ed-17a3-434a-aff6-ac067c489e7f",
   "metadata": {},
   "outputs": [
    {
     "name": "stdin",
     "output_type": "stream",
     "text": [
      "Enter the positive number: 10\n"
     ]
    },
    {
     "name": "stdout",
     "output_type": "stream",
     "text": [
      "original number = :  10\n",
      "sing changed number  = : -10\n"
     ]
    }
   ],
   "source": [
    "#Use the ternary operator to assign values based on conditions\n",
    "number = int(input(\"Enter the positive number:\"))\n",
    "change_sing = -number\n",
    "print(\"original number = : \",number)\n",
    "print(\"sing changed number  = :\",change_sing)"
   ]
  },
  {
   "cell_type": "code",
   "execution_count": 15,
   "id": "924b193a-7d33-480c-8291-e8820e6cfe1a",
   "metadata": {},
   "outputs": [
    {
     "name": "stdin",
     "output_type": "stream",
     "text": [
      "Enter the fisrt number: 5\n",
      "Enter the second number: 3\n"
     ]
    },
    {
     "name": "stdout",
     "output_type": "stream",
     "text": [
      "5\n"
     ]
    }
   ],
   "source": [
    "# Use the ternary operator to assign values based on conditions\n",
    "num1 = int(input(\"Enter the fisrt number:\"))\n",
    "num2 = int(input(\"Enter the second number:\"))\n",
    "result = num1 if num1> num2 else num2\n",
    "print(result)"
   ]
  },
  {
   "cell_type": "code",
   "execution_count": null,
   "id": "eb8f6d55-9f72-4317-92b9-985ea1428073",
   "metadata": {},
   "outputs": [],
   "source": []
  }
 ],
 "metadata": {
  "kernelspec": {
   "display_name": "Python 3 (ipykernel)",
   "language": "python",
   "name": "python3"
  },
  "language_info": {
   "codemirror_mode": {
    "name": "ipython",
    "version": 3
   },
   "file_extension": ".py",
   "mimetype": "text/x-python",
   "name": "python",
   "nbconvert_exporter": "python",
   "pygments_lexer": "ipython3",
   "version": "3.10.8"
  }
 },
 "nbformat": 4,
 "nbformat_minor": 5
}
